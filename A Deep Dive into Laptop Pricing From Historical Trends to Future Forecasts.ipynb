{
 "cells": [
  {
   "cell_type": "markdown",
   "id": "bee50eb3",
   "metadata": {},
   "source": [
    "## A Deep Dive into Laptop Pricing From Historical Trends to Future Forecasts\n",
    "\n",
    "### Learning Agenda of Notebook:\n",
    "\n",
    "- **Machine Learning Project LifeCycle**\n",
    "- **Problem Statement** \n",
    "- **Data Collection/ Data Acquisition**\n",
    "- **Basic Understanding of Data**\n",
    "- **Data Pre-processing** \n",
    "- **Exploratory Data Analysis**\n",
    "- **Feature Engineering**\n",
    "- **Model Building**\n",
    "- **Model Evaluation**\n",
    "- **Cross Validation and Hyper-Parameter Tunning**\n",
    "- **Model Deployment**\n",
    "- **Containerizing the WebApp using Docker**\n",
    "- **Bonus: Scaling our Docker Container using Kubernetes**\n",
    "- **Bonus: Monitoring and Maintenance**\n"
   ]
  },
  {
   "cell_type": "code",
   "execution_count": null,
   "id": "e9ef1ba7",
   "metadata": {},
   "outputs": [],
   "source": []
  },
  {
   "cell_type": "markdown",
   "id": "6b95d7ba",
   "metadata": {},
   "source": [
    "## Machine Learning Project LifeCycle\n",
    "\n",
    "<img src=\"images/lifeCycle.png\" height=500px width=500px>\n",
    "\n",
    "<br/>\n",
    "\n",
    "The **machine learning project lifecycle** refers to the stages involved in developing and deploying a machine learning model. The project lifecycle typically includes the following stages:\n",
    "<br/>\n",
    "\n",
    "\n",
    "\n",
    "- **Problem Definition:** The first step is to define the problem we want to solve. This includes identifying the business or research problem, defining the data requirements, and determining the objectives and metrics for success.\n",
    "<br/>\n",
    "- **Data Collection:** The second step is to collect the data that we will use to build your model. This may involve acquiring data from various sources, including internal and external databases, APIs, and web scraping.\n",
    "<br/>\n",
    "\n",
    "- **Data Cleaning and Preparation:** Once we have collected the data, we need to clean and prepare it for analysis. This involves tasks such as removing duplicates, handling missing data, transforming the data into the appropriate format.\n",
    "<br/>\n",
    "\n",
    "- **Data Analysis and Visualization:** With the data cleaned and prepared, the next step is to analyze and visualize the data to gain insights into the problem we are trying to solve. This may include exploratory data analysis, data visualization, and feature selection.\n",
    "<br/>\n",
    "\n",
    "- **Model Selection and Training:** Once we have a clear understanding of the data, the next step is to select an appropriate machine learning model and train it on the data, before training we need to split the data into training and testing sets.. This step involves evaluating different models and selecting the one that provides the best performance.\n",
    "<br/>\n",
    "\n",
    "- **Model Evaluation:** Once we have trained the model, we need to evaluate its performance on a holdout test set. This involves calculating various metrics, such as mse, rmse, r2,  accuracy, precision, recall, and F1 score.\n",
    "<br/>\n",
    "\n",
    "- **Model Deployment:** If the model performs well, the next step is to deploy it in a production environment. This may involve integrating it with existing systems or building a custom application to provide access to the model.\n",
    "<br/>\n",
    "\n",
    "- **Model Maintenance and Monitoring:** After the model has been deployed, it is important to monitor its performance and ensure that it continues to provide accurate results. This involves tasks such as updating the model as new data becomes available, retraining the model periodically, and monitoring for drift or changes in the data distribution.\n",
    "<br/>\n",
    "\n"
   ]
  },
  {
   "cell_type": "code",
   "execution_count": null,
   "id": "c9f6d895",
   "metadata": {},
   "outputs": [],
   "source": []
  },
  {
   "cell_type": "code",
   "execution_count": null,
   "id": "e296824f",
   "metadata": {},
   "outputs": [],
   "source": []
  },
  {
   "cell_type": "markdown",
   "id": "4645e5c4",
   "metadata": {},
   "source": [
    "## Problem Statement\n",
    "\n",
    "<img src=\"images/problem.webp\">\n",
    "\n",
    "<h6>The purpose of this project is to provide a comprehensive analysis of the laptop market and forecast future prices based on historical trends and market dynamics. The project aims to inform decision making for industry participants and consumers alike and provide valuable insights into the laptop market.\n",
    "\n",
    "<br/>\n",
    "<br/>\n",
    "\n",
    "    \n",
    "The laptop market is constantly changing, with new models being introduced, technology advancements, and fluctuations in consumer demand. The challenge is to accurately predict future prices based on the vast amount of data available and changing market conditions.</h6>"
   ]
  },
  {
   "cell_type": "code",
   "execution_count": null,
   "id": "991c3a5c",
   "metadata": {},
   "outputs": [],
   "source": []
  },
  {
   "cell_type": "code",
   "execution_count": null,
   "id": "d68e72f5",
   "metadata": {},
   "outputs": [],
   "source": []
  },
  {
   "cell_type": "code",
   "execution_count": null,
   "id": "ac60a175",
   "metadata": {},
   "outputs": [],
   "source": []
  },
  {
   "cell_type": "markdown",
   "id": "5bf17fca",
   "metadata": {},
   "source": [
    "## Data Collection / Data Acquisition\n",
    "\n",
    "<br/>\n",
    "<img src=\"images/data_collection.jpg\" height=400px width=400px>\n",
    "<br/>\n",
    "\n",
    "Here you can download the [dataset-kaggle](https://www.kaggle.com/datasets/ehtishamsadiq/uncleaned-laptop-price-dataset)"
   ]
  },
  {
   "cell_type": "code",
   "execution_count": 89,
   "id": "7a4e60aa",
   "metadata": {},
   "outputs": [],
   "source": [
    "# import all necessary libraries\n",
    "import pandas as pd\n",
    "import numpy as np\n",
    "import matplotlib.pyplot as plt\n",
    "import seaborn as sns\n",
    "\n",
    "import warnings\n",
    "warnings.filterwarnings('ignore')"
   ]
  },
  {
   "cell_type": "code",
   "execution_count": 32,
   "id": "b1d19400",
   "metadata": {},
   "outputs": [],
   "source": []
  },
  {
   "cell_type": "code",
   "execution_count": 91,
   "id": "b2507607",
   "metadata": {},
   "outputs": [],
   "source": [
    "# After downloading dataset, to load dataset we use `pd.read_csv` function\n",
    "df = pd.read_csv('datasets/laptopData.csv')"
   ]
  },
  {
   "cell_type": "code",
   "execution_count": null,
   "id": "26f1723b",
   "metadata": {},
   "outputs": [],
   "source": []
  },
  {
   "cell_type": "code",
   "execution_count": null,
   "id": "36a920a5",
   "metadata": {},
   "outputs": [],
   "source": []
  },
  {
   "cell_type": "markdown",
   "id": "5996fc81",
   "metadata": {},
   "source": [
    "## Basic Understanding of Data\n",
    "\n",
    "- View first/last five rows\n",
    "- Dimension of data\n",
    "- Data types of each column\n",
    "- Descriptive View of data\n",
    "- Check missing values\n",
    "- Check duplicate values"
   ]
  },
  {
   "cell_type": "code",
   "execution_count": 71,
   "id": "20a83571",
   "metadata": {},
   "outputs": [
    {
     "data": {
      "text/plain": [
       "Unnamed: 0          30\n",
       "Company             30\n",
       "TypeName            30\n",
       "Inches              30\n",
       "ScreenResolution    30\n",
       "Cpu                 30\n",
       "Ram                 30\n",
       "Memory              30\n",
       "Gpu                 30\n",
       "OpSys               30\n",
       "Weight              30\n",
       "Price               30\n",
       "dtype: int64"
      ]
     },
     "execution_count": 71,
     "metadata": {},
     "output_type": "execute_result"
    }
   ],
   "source": [
    "df.isna().sum()"
   ]
  },
  {
   "cell_type": "code",
   "execution_count": null,
   "id": "386813b2",
   "metadata": {},
   "outputs": [],
   "source": []
  },
  {
   "cell_type": "code",
   "execution_count": null,
   "id": "20842934",
   "metadata": {},
   "outputs": [],
   "source": []
  },
  {
   "cell_type": "code",
   "execution_count": null,
   "id": "fda8c281",
   "metadata": {},
   "outputs": [],
   "source": []
  },
  {
   "cell_type": "markdown",
   "id": "1d90b9c7",
   "metadata": {},
   "source": [
    "## Data Preprocessing\n",
    "- Convert all columns into lowercase and replace spaces with `_`\n",
    "- Drop Un-necessary columns"
   ]
  },
  {
   "cell_type": "code",
   "execution_count": null,
   "id": "274322d2",
   "metadata": {},
   "outputs": [],
   "source": []
  },
  {
   "cell_type": "code",
   "execution_count": null,
   "id": "54150942",
   "metadata": {},
   "outputs": [],
   "source": []
  },
  {
   "cell_type": "code",
   "execution_count": null,
   "id": "ff874b4d",
   "metadata": {},
   "outputs": [],
   "source": []
  },
  {
   "cell_type": "code",
   "execution_count": null,
   "id": "ebcd4acf",
   "metadata": {},
   "outputs": [],
   "source": []
  },
  {
   "cell_type": "code",
   "execution_count": null,
   "id": "787c35cc",
   "metadata": {},
   "outputs": [],
   "source": []
  },
  {
   "cell_type": "code",
   "execution_count": null,
   "id": "a61cd2c6",
   "metadata": {},
   "outputs": [],
   "source": []
  },
  {
   "cell_type": "code",
   "execution_count": null,
   "id": "e8903e2c",
   "metadata": {},
   "outputs": [],
   "source": []
  },
  {
   "cell_type": "markdown",
   "id": "453464af",
   "metadata": {},
   "source": [
    "## Exploratory Data Analysis\n",
    "\n",
    "\n",
    "- Correlation analysis\n",
    "- Distribution analysis\n",
    "- Outlier detection"
   ]
  },
  {
   "cell_type": "code",
   "execution_count": 105,
   "id": "8d3baa48",
   "metadata": {},
   "outputs": [
    {
     "data": {
      "image/png": "[encoded data removed]",
      "text/plain": [
       "<Figure size 432x288 with 2 Axes>"
      ]
     },
     "metadata": {
      "needs_background": "light"
     },
     "output_type": "display_data"
    }
   ],
   "source": [
    "corr = df.corr()\n",
    "sns.heatmap(corr, annot=True, cmap='coolwarm');"
   ]
  },
  {
   "cell_type": "code",
   "execution_count": null,
   "id": "30c0d01f",
   "metadata": {},
   "outputs": [],
   "source": []
  },
  {
   "cell_type": "code",
   "execution_count": null,
   "id": "285496a3",
   "metadata": {},
   "outputs": [],
   "source": []
  },
  {
   "cell_type": "markdown",
   "id": "92c3bb1d",
   "metadata": {},
   "source": [
    "## Feature Engineering\n",
    "\n",
    "#### Pipeline for\n",
    "- Missing values Imputation\n",
    "- Encoding of Categorical Variables\n",
    "- Handling Outliers\n",
    "- Scaling of Numerical Columns"
   ]
  },
  {
   "cell_type": "code",
   "execution_count": null,
   "id": "e1a8331a",
   "metadata": {},
   "outputs": [],
   "source": []
  },
  {
   "cell_type": "code",
   "execution_count": null,
   "id": "7b8e0c54",
   "metadata": {},
   "outputs": [],
   "source": []
  },
  {
   "cell_type": "code",
   "execution_count": null,
   "id": "f826be06",
   "metadata": {},
   "outputs": [],
   "source": []
  },
  {
   "cell_type": "code",
   "execution_count": null,
   "id": "a1103e41",
   "metadata": {},
   "outputs": [],
   "source": []
  },
  {
   "cell_type": "markdown",
   "id": "6fb68a97",
   "metadata": {},
   "source": [
    "## Model Building\n",
    "\n",
    "- Separate Features and target variable \n",
    "- Train/Test/Validate Split\n",
    "- Model Training\n",
    "- Model Prediction\n",
    "- Impact of features on target variable"
   ]
  },
  {
   "cell_type": "code",
   "execution_count": null,
   "id": "566a98a0",
   "metadata": {},
   "outputs": [],
   "source": []
  },
  {
   "cell_type": "code",
   "execution_count": null,
   "id": "bf23cda7",
   "metadata": {},
   "outputs": [],
   "source": []
  },
  {
   "cell_type": "code",
   "execution_count": null,
   "id": "df67fb87",
   "metadata": {},
   "outputs": [],
   "source": []
  },
  {
   "cell_type": "code",
   "execution_count": null,
   "id": "df60432b",
   "metadata": {},
   "outputs": [],
   "source": []
  },
  {
   "cell_type": "markdown",
   "id": "704588f6",
   "metadata": {},
   "source": [
    "## Model Evaluation\n",
    "\n",
    "\n",
    "<img src=\"images/evaluation.gif\" height=500px width=500px>\n",
    "\n",
    "\n",
    "- **Mean Absolute Error(MAE)**\n",
    "- **Mean Squared Error(MSE)**\n",
    "- **Root Mean Squared Error(MSE)**\n",
    "- **R-Squared (R2)**\n",
    "- **Adjusted R-Squared**"
   ]
  },
  {
   "cell_type": "code",
   "execution_count": null,
   "id": "a2df327f",
   "metadata": {},
   "outputs": [],
   "source": []
  },
  {
   "cell_type": "code",
   "execution_count": null,
   "id": "7246c5ed",
   "metadata": {},
   "outputs": [],
   "source": []
  },
  {
   "cell_type": "code",
   "execution_count": null,
   "id": "54dc5b72",
   "metadata": {},
   "outputs": [],
   "source": []
  },
  {
   "cell_type": "code",
   "execution_count": null,
   "id": "012d5529",
   "metadata": {},
   "outputs": [],
   "source": []
  },
  {
   "cell_type": "code",
   "execution_count": null,
   "id": "2c05d2a6",
   "metadata": {},
   "outputs": [],
   "source": []
  },
  {
   "cell_type": "markdown",
   "id": "9ad7c223",
   "metadata": {},
   "source": [
    "## Cross Validation and Hyper-Parameter Tunning\n",
    "\n",
    "\n",
    "<img src=\"images/cross_validation.png\" height=700px width=700px>\n",
    "\n",
    "- **Choose a Model**\n",
    "- **Cross Validation**\n",
    "- **Define HyperParameters for Model**\n",
    "- **Grid Search**\n",
    "- **Evaluate Performance**\n",
    "- **Impact of feature variables on Target**\n",
    "- **Make Prediction on new unseen data**"
   ]
  },
  {
   "cell_type": "code",
   "execution_count": null,
   "id": "71ac5e65",
   "metadata": {},
   "outputs": [],
   "source": []
  },
  {
   "cell_type": "code",
   "execution_count": null,
   "id": "55ccf012",
   "metadata": {},
   "outputs": [],
   "source": []
  },
  {
   "cell_type": "code",
   "execution_count": null,
   "id": "04eabb61",
   "metadata": {},
   "outputs": [],
   "source": []
  },
  {
   "cell_type": "code",
   "execution_count": null,
   "id": "5885dabd",
   "metadata": {},
   "outputs": [],
   "source": []
  },
  {
   "cell_type": "code",
   "execution_count": null,
   "id": "54a8d2cd",
   "metadata": {},
   "outputs": [],
   "source": []
  },
  {
   "cell_type": "markdown",
   "id": "dc23e42d",
   "metadata": {},
   "source": [
    "## Model Deployment using Streamlit and Heroku\n",
    "\n",
    "<img src=\"images/streamlit_heroku.png\" height=600px width=600px>\n",
    "\n",
    "- **Create a Streamlit app**\n",
    "- **Load the model**\n",
    "- **Install required packages**\n",
    "- **Create `requirements.txt`**\n",
    "- **Create a `setup.sh` file**\n",
    "- **Create a `Procfile`**\n",
    "- **Create a `Heroku account`**\n",
    "- **Connect app to `Git` repository**\n",
    "- **Deploy app to Heroku**\n",
    "- **Test the app**"
   ]
  },
  {
   "cell_type": "code",
   "execution_count": null,
   "id": "fbbe085c",
   "metadata": {},
   "outputs": [],
   "source": []
  },
  {
   "cell_type": "code",
   "execution_count": null,
   "id": "43ce8f5d",
   "metadata": {},
   "outputs": [],
   "source": []
  },
  {
   "cell_type": "code",
   "execution_count": null,
   "id": "9e085d0f",
   "metadata": {},
   "outputs": [],
   "source": []
  },
  {
   "cell_type": "code",
   "execution_count": null,
   "id": "83ea02e8",
   "metadata": {},
   "outputs": [],
   "source": []
  },
  {
   "cell_type": "markdown",
   "id": "b6eacd2f",
   "metadata": {},
   "source": [
    "## Monitoring and Maintenance of Model\n",
    "\n",
    "<img src=\"images/model_monitor.png\" height=500px width=500px>\n",
    "\n",
    "\n",
    "\n",
    "- **Monitoring using `flask_monitoringdashboard`**\n",
    "- **Maintenance by increasing the Number of Dynos**"
   ]
  },
  {
   "cell_type": "code",
   "execution_count": null,
   "id": "81011a60",
   "metadata": {},
   "outputs": [],
   "source": []
  },
  {
   "cell_type": "code",
   "execution_count": null,
   "id": "e06be75f",
   "metadata": {},
   "outputs": [],
   "source": []
  },
  {
   "cell_type": "code",
   "execution_count": null,
   "id": "9ba0a9e6",
   "metadata": {},
   "outputs": [],
   "source": []
  },
  {
   "cell_type": "code",
   "execution_count": null,
   "id": "0afa6a7f",
   "metadata": {},
   "outputs": [],
   "source": []
  },
  {
   "cell_type": "code",
   "execution_count": null,
   "id": "e4109417",
   "metadata": {},
   "outputs": [],
   "source": []
  },
  {
   "cell_type": "markdown",
   "id": "abaa7b01",
   "metadata": {},
   "source": [
    "## Containerizing the WebApp using Docker\n",
    "\n",
    "\n",
    "<img src=\"images/vm_vs_docker.png\" height=500px width=500px>\n",
    "\n",
    "\n",
    "- **Install Docker**\n",
    "- **Create a Dockerfile**\n",
    "- **Build the Docker image**\n",
    "- **Test the Docker image**\n",
    "- **Publish the Docker image**\n",
    "- **Deploy the Docker image**"
   ]
  },
  {
   "cell_type": "code",
   "execution_count": null,
   "id": "fc4ee597",
   "metadata": {},
   "outputs": [],
   "source": []
  },
  {
   "cell_type": "code",
   "execution_count": null,
   "id": "932ca074",
   "metadata": {},
   "outputs": [],
   "source": []
  },
  {
   "cell_type": "code",
   "execution_count": null,
   "id": "42e2889f",
   "metadata": {},
   "outputs": [],
   "source": []
  },
  {
   "cell_type": "code",
   "execution_count": null,
   "id": "e018286d",
   "metadata": {},
   "outputs": [],
   "source": []
  },
  {
   "cell_type": "code",
   "execution_count": null,
   "id": "63a059d1",
   "metadata": {},
   "outputs": [],
   "source": []
  },
  {
   "cell_type": "markdown",
   "id": "a5cf5334",
   "metadata": {},
   "source": [
    "## Bonus: Scaling our Docker Container using Kubernetes\n",
    "\n",
    "<img src=\"images/docker-kubernetes.png\" height=500px width=500px>\n",
    "\n",
    "- **Install Kubernetes**\n",
    "- **Create a Kubernetes deployment**\n",
    "- **Deploy the app**\n",
    "- **Scale the app**\n",
    "- **Monitor the app**\n",
    "- **Update the app**"
   ]
  },
  {
   "cell_type": "code",
   "execution_count": null,
   "id": "b2cddfac",
   "metadata": {},
   "outputs": [],
   "source": []
  },
  {
   "cell_type": "code",
   "execution_count": null,
   "id": "abba18fc",
   "metadata": {},
   "outputs": [],
   "source": []
  },
  {
   "cell_type": "code",
   "execution_count": null,
   "id": "e6021029",
   "metadata": {},
   "outputs": [],
   "source": []
  },
  {
   "cell_type": "code",
   "execution_count": null,
   "id": "2e9fdac2",
   "metadata": {},
   "outputs": [],
   "source": []
  },
  {
   "cell_type": "code",
   "execution_count": null,
   "id": "311e8a34",
   "metadata": {},
   "outputs": [],
   "source": []
  },
  {
   "cell_type": "code",
   "execution_count": 92,
   "id": "6d5a34c4",
   "metadata": {},
   "outputs": [
    {
     "data": {
      "image/png": "[encoded data removed]",
      "text/plain": [
       "<Figure size 432x288 with 1 Axes>"
      ]
     },
     "metadata": {
      "needs_background": "light"
     },
     "output_type": "display_data"
    },
    {
     "data": {
      "image/png": "[encoded data removed]",
      "text/plain": [
       "<Figure size 432x288 with 1 Axes>"
      ]
     },
     "metadata": {
      "needs_background": "light"
     },
     "output_type": "display_data"
    },
    {
     "data": {
      "image/png": "[encoded data removed]",
      "text/plain": [
       "<Figure size 432x288 with 1 Axes>"
      ]
     },
     "metadata": {
      "needs_background": "light"
     },
     "output_type": "display_data"
    },
    {
     "data": {
      "image/png": "[encoded data removed]",
      "text/plain": [
       "<Figure size 432x288 with 1 Axes>"
      ]
     },
     "metadata": {
      "needs_background": "light"
     },
     "output_type": "display_data"
    }
   ],
   "source": [
    "import numpy as np\n",
    "import matplotlib.pyplot as plt\n",
    "from sklearn.datasets import make_regression\n",
    "from sklearn.linear_model import LinearRegression\n",
    "\n",
    "# Generate a dataset with one independent variable\n",
    "X, y = make_regression(n_samples=100, n_features=1, noise=10)\n",
    "\n",
    "# Fit a linear regression model to the data\n",
    "model = LinearRegression()\n",
    "model.fit(X, y)\n",
    "\n",
    "# Check the assumptions of linear regression\n",
    "predictions = model.predict(X)\n",
    "residuals = y - predictions\n",
    "\n",
    "# Check linearity by plotting the residuals against the independent variable\n",
    "plt.scatter(X, residuals)\n",
    "plt.xlabel(\"Independent variable\")\n",
    "plt.ylabel(\"Residuals\")\n",
    "plt.show()\n",
    "\n",
    "# Check independence by plotting the residuals against the predicted values\n",
    "plt.scatter(predictions, residuals)\n",
    "plt.xlabel(\"Predicted values\")\n",
    "plt.ylabel(\"Residuals\")\n",
    "plt.show()\n",
    "\n",
    "# Check homoscedasticity by plotting the residuals against the predicted values\n",
    "plt.scatter(predictions, residuals ** 2)\n",
    "plt.xlabel(\"Predicted values\")\n",
    "plt.ylabel(\"Squared residuals\")\n",
    "plt.show()\n",
    "\n",
    "# Check normality by plotting a histogram of the residuals\n",
    "plt.hist(residuals, bins=20)\n",
    "plt.xlabel(\"Residuals\")\n",
    "plt.ylabel(\"Frequency\")\n",
    "plt.show()\n"
   ]
  },
  {
   "cell_type": "code",
   "execution_count": null,
   "id": "a312490e",
   "metadata": {},
   "outputs": [],
   "source": []
  },
  {
   "cell_type": "code",
   "execution_count": null,
   "id": "582533d2",
   "metadata": {},
   "outputs": [],
   "source": []
  },
  {
   "cell_type": "code",
   "execution_count": null,
   "id": "a0729e7f",
   "metadata": {},
   "outputs": [],
   "source": []
  },
  {
   "cell_type": "code",
   "execution_count": null,
   "id": "13a09219",
   "metadata": {},
   "outputs": [],
   "source": []
  },
  {
   "cell_type": "code",
   "execution_count": null,
   "id": "2582f43e",
   "metadata": {},
   "outputs": [],
   "source": []
  },
  {
   "cell_type": "code",
   "execution_count": null,
   "id": "a26c917d",
   "metadata": {},
   "outputs": [],
   "source": []
  },
  {
   "cell_type": "code",
   "execution_count": 17,
   "id": "825aba4e",
   "metadata": {},
   "outputs": [],
   "source": [
    "# from sklearn.linear_model import LinearRegression, LogisticRegression\n",
    "\n",
    "# model1 = LinearRegression()\n",
    "# model2 = LogisticRegression()"
   ]
  },
  {
   "cell_type": "code",
   "execution_count": 18,
   "id": "910375d6",
   "metadata": {},
   "outputs": [],
   "source": [
    "# model.get_params()"
   ]
  },
  {
   "cell_type": "code",
   "execution_count": 19,
   "id": "1a67a269",
   "metadata": {},
   "outputs": [],
   "source": [
    "# model2.get_params()"
   ]
  },
  {
   "cell_type": "code",
   "execution_count": null,
   "id": "805f43ea",
   "metadata": {},
   "outputs": [],
   "source": []
  },
  {
   "cell_type": "code",
   "execution_count": null,
   "id": "0ec99a46",
   "metadata": {},
   "outputs": [],
   "source": []
  },
  {
   "cell_type": "code",
   "execution_count": null,
   "id": "89445cf3",
   "metadata": {},
   "outputs": [],
   "source": []
  },
  {
   "cell_type": "code",
   "execution_count": 20,
   "id": "5fe27b44",
   "metadata": {},
   "outputs": [],
   "source": [
    "# str1 = \"A-Deep-Dive-into-Laptop-Pricing-From-Historical-Trends-to-Future-Forecasts\"\n",
    "# str1\n"
   ]
  },
  {
   "cell_type": "code",
   "execution_count": 16,
   "id": "30179d8e",
   "metadata": {},
   "outputs": [],
   "source": [
    "# \" \".join(str1.split(\"-\"))"
   ]
  },
  {
   "cell_type": "code",
   "execution_count": null,
   "id": "1418104e",
   "metadata": {},
   "outputs": [],
   "source": []
  },
  {
   "cell_type": "code",
   "execution_count": null,
   "id": "92227eaa",
   "metadata": {},
   "outputs": [],
   "source": []
  },
  {
   "cell_type": "code",
   "execution_count": 58,
   "id": "ab0c99ea",
   "metadata": {},
   "outputs": [
    {
     "data": {
      "text/plain": [
       "{'e': 0, 't': 2, 'i': 3, 's': 4, 'a': 6, 'm': 7}"
      ]
     },
     "execution_count": 58,
     "metadata": {},
     "output_type": "execute_result"
    }
   ],
   "source": [
    "char_first_occurrence = {}\n",
    "char_second_occurrence = set()\n",
    "\n",
    "string=\"ehtisham\"\n",
    "\n",
    "for i, char in enumerate(string):\n",
    "        if char in char_second_occurrence:\n",
    "            continue\n",
    "        if char in char_first_occurrence:\n",
    "            del char_first_occurrence[char]\n",
    "            char_second_occurrence.add(char)\n",
    "        else:\n",
    "            char_first_occurrence[char] = i\n",
    "\n",
    "            \n",
    "char_first_occurrence"
   ]
  },
  {
   "cell_type": "code",
   "execution_count": 59,
   "id": "e8e19b27",
   "metadata": {},
   "outputs": [
    {
     "data": {
      "text/plain": [
       "{'h'}"
      ]
     },
     "execution_count": 59,
     "metadata": {},
     "output_type": "execute_result"
    }
   ],
   "source": [
    "char_second_occurrence"
   ]
  },
  {
   "cell_type": "code",
   "execution_count": 62,
   "id": "d0da8c4a",
   "metadata": {},
   "outputs": [
    {
     "name": "stdout",
     "output_type": "stream",
     "text": [
      "e\n"
     ]
    }
   ],
   "source": [
    "# Find the index of the first non-repeating character\n",
    "for i, char in enumerate(string):\n",
    "    if char in char_first_occurrence:\n",
    "        if i==0:\n",
    "            print(char)\n"
   ]
  },
  {
   "cell_type": "code",
   "execution_count": null,
   "id": "6e2b6acf",
   "metadata": {},
   "outputs": [],
   "source": []
  },
  {
   "cell_type": "code",
   "execution_count": null,
   "id": "44c7ac8b",
   "metadata": {},
   "outputs": [],
   "source": []
  },
  {
   "cell_type": "code",
   "execution_count": null,
   "id": "c0dc1537",
   "metadata": {},
   "outputs": [],
   "source": []
  },
  {
   "cell_type": "code",
   "execution_count": null,
   "id": "eb4bf8a4",
   "metadata": {},
   "outputs": [],
   "source": []
  },
  {
   "cell_type": "code",
   "execution_count": null,
   "id": "c54fa6f0",
   "metadata": {},
   "outputs": [],
   "source": []
  },
  {
   "cell_type": "code",
   "execution_count": null,
   "id": "56f32acd",
   "metadata": {},
   "outputs": [],
   "source": []
  },
  {
   "cell_type": "code",
   "execution_count": null,
   "id": "a74d1a3f",
   "metadata": {},
   "outputs": [],
   "source": []
  },
  {
   "cell_type": "code",
   "execution_count": null,
   "id": "6ffa23c2",
   "metadata": {},
   "outputs": [],
   "source": []
  },
  {
   "cell_type": "code",
   "execution_count": null,
   "id": "c355dffd",
   "metadata": {},
   "outputs": [],
   "source": []
  },
  {
   "cell_type": "code",
   "execution_count": 37,
   "id": "8e7e9b29",
   "metadata": {},
   "outputs": [],
   "source": [
    "def find_first_non_repeating_char(string):\n",
    "    char_first_occurrence = {}\n",
    "    char_second_occurrence = set()\n",
    "\n",
    "    for i, char in enumerate(string):\n",
    "        if char in char_second_occurrence:\n",
    "            continue\n",
    "        if char in char_first_occurrence:\n",
    "            del char_first_occurrence[char]\n",
    "            char_second_occurrence.add(char)\n",
    "        else:\n",
    "            char_first_occurrence[char] = i\n",
    "\n",
    "    # Find the index of the first non-repeating character\n",
    "    for i, char in enumerate(string):\n",
    "        if char in char_first_occurrence:\n",
    "            return i\n",
    "\n",
    "    # If no non-repeating characters were found, return -1\n",
    "    return -1\n"
   ]
  },
  {
   "cell_type": "code",
   "execution_count": 38,
   "id": "d904f4e4",
   "metadata": {},
   "outputs": [
    {
     "data": {
      "text/plain": [
       "0"
      ]
     },
     "execution_count": 38,
     "metadata": {},
     "output_type": "execute_result"
    }
   ],
   "source": [
    "find_first_non_repeating_char(\"Ehtisham\")"
   ]
  },
  {
   "cell_type": "code",
   "execution_count": null,
   "id": "9dfd3ecc",
   "metadata": {},
   "outputs": [],
   "source": []
  }
 ],
 "metadata": {
  "kernelspec": {
   "display_name": "Python 3 (ipykernel)",
   "language": "python",
   "name": "python3"
  },
  "language_info": {
   "codemirror_mode": {
    "name": "ipython",
    "version": 3
   },
   "file_extension": ".py",
   "mimetype": "text/x-python",
   "name": "python",
   "nbconvert_exporter": "python",
   "pygments_lexer": "ipython3",
   "version": "3.8.10"
  }
 },
 "nbformat": 4,
 "nbformat_minor": 5
}
